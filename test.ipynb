{
 "cells": [
  {
   "cell_type": "code",
   "execution_count": 1,
   "metadata": {},
   "outputs": [],
   "source": [
    "import torch\n",
    "from torch import nn\n",
    "import tools\n",
    "import pandas\n",
    "import data_process\n",
    "import MyTransformer\n",
    "import argparse\n",
    "Batch_size = 8\n",
    "use_mask = True\n",
    "torch.cuda.empty_cache()  # 释放未被引用的显存\n",
    "\n",
    "data  = pandas.read_csv('./motionClassify.csv')\n",
    "vocab = data_process.gen_vocab(data)\n",
    "data_train  =  data_process.gen_dataset(data[:40000],vocab,use_mask=use_mask)\n",
    "data_test = data_process.gen_dataset(data[40000:],vocab,use_mask=use_mask)"
   ]
  },
  {
   "cell_type": "code",
   "execution_count": 2,
   "metadata": {},
   "outputs": [],
   "source": [
    "train_iter = torch.utils.data.DataLoader(data_train,Batch_size,shuffle=True)\n",
    "test_iter = torch.utils.data.DataLoader(data_test,Batch_size,shuffle=True)"
   ]
  },
  {
   "cell_type": "code",
   "execution_count": 3,
   "metadata": {},
   "outputs": [
    {
     "name": "stdout",
     "output_type": "stream",
     "text": [
      "torch.Size([8, 600])\n",
      "tensor([[   48,   368,     3,  ...,     0,     0,     0],\n",
      "        [  216, 14431,   655,  ...,     0,     0,     0],\n",
      "        [   21,    22,  2633,  ...,     0,     0,     0],\n",
      "        ...,\n",
      "        [  173,   672,     2,  ...,     0,     0,     0],\n",
      "        [16515,   111,  1979,  ...,     0,     0,     0],\n",
      "        [ 7193,  2811,  4202,  ...,     0,     0,     0]])\n",
      "torch.Size([8])\n",
      "tensor([383, 150,  47,  91,  42, 106,  76,  60])\n",
      "torch.Size([8])\n",
      "tensor([0, 0, 1, 0, 1, 0, 0, 1])\n"
     ]
    }
   ],
   "source": [
    "for i,(Xs,y) in enumerate(train_iter):\n",
    "    X,valid_len = Xs\n",
    "    print(X.shape)\n",
    "    print(X)\n",
    "    print(valid_len.shape)\n",
    "    print(valid_len)\n",
    "    print(y.shape)\n",
    "    print(y)\n",
    "    break\n",
    "    \n",
    "    \n",
    "    "
   ]
  },
  {
   "cell_type": "code",
   "execution_count": null,
   "metadata": {},
   "outputs": [],
   "source": []
  }
 ],
 "metadata": {
  "kernelspec": {
   "display_name": "trace",
   "language": "python",
   "name": "python3"
  },
  "language_info": {
   "codemirror_mode": {
    "name": "ipython",
    "version": 3
   },
   "file_extension": ".py",
   "mimetype": "text/x-python",
   "name": "python",
   "nbconvert_exporter": "python",
   "pygments_lexer": "ipython3",
   "version": "3.11.9"
  }
 },
 "nbformat": 4,
 "nbformat_minor": 2
}
