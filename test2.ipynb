{
 "cells": [
  {
   "cell_type": "code",
   "execution_count": 1,
   "metadata": {},
   "outputs": [],
   "source": [
    "import torch\n",
    "import torch.nn as nn\n",
    "from torch.nn.utils.rnn import pack_padded_sequence, pad_packed_sequence\n",
    "\n",
    "# 假设已经有一个embedding层，embedding_dim是嵌入维度\n",
    "embedding_dim = 5\n",
    "embedding = nn.Embedding(10, embedding_dim)  # 假设词汇表大小为10\n",
    "\n",
    "# 假设原始的token是3个句子，它们已经被编码为 token ids\n",
    "# 示例token序列为[1, 2, 3], [4, 5], [6, 7, 8, 9]\n",
    "tokens = [torch.tensor([1, 2, 3]), torch.tensor([4, 5]), torch.tensor([6, 7, 8, 9])]\n",
    "\n",
    "# 使用Embedding层将token转换为嵌入\n",
    "embedded_tokens = [embedding(token) for token in tokens]"
   ]
  },
  {
   "cell_type": "code",
   "execution_count": 6,
   "metadata": {},
   "outputs": [
    {
     "data": {
      "text/plain": [
       "[tensor([[-0.3956,  0.4439,  0.5085, -0.5840,  0.8709],\n",
       "         [ 0.2143,  1.6778,  0.0112, -0.0320, -0.3915],\n",
       "         [ 0.9667, -0.9229,  0.0081,  1.8913, -0.6835]],\n",
       "        grad_fn=<EmbeddingBackward0>),\n",
       " tensor([[ 1.3310, -0.3161,  0.5835,  0.8231, -0.1400],\n",
       "         [ 1.6454, -0.3439, -1.3837,  0.8876,  1.4397]],\n",
       "        grad_fn=<EmbeddingBackward0>),\n",
       " tensor([[-0.9114, -1.2176,  0.2858, -0.5130,  0.0268],\n",
       "         [-0.0803,  0.6734, -1.3797, -0.8677,  0.9274],\n",
       "         [-1.1376, -0.3452,  0.3709,  0.3842,  0.8517],\n",
       "         [-2.8832,  1.1551,  0.2756,  0.0649, -0.1000]],\n",
       "        grad_fn=<EmbeddingBackward0>)]"
      ]
     },
     "execution_count": 6,
     "metadata": {},
     "output_type": "execute_result"
    }
   ],
   "source": [
    "embedded_tokens"
   ]
  },
  {
   "cell_type": "code",
   "execution_count": 3,
   "metadata": {},
   "outputs": [],
   "source": [
    "# 使用pad_sequence将它们填充为相同长度的序列\n",
    "padded_inputs = nn.utils.rnn.pad_sequence(embedded_tokens, batch_first=True, padding_value=0)\n",
    "\n"
   ]
  },
  {
   "cell_type": "code",
   "execution_count": 7,
   "metadata": {},
   "outputs": [
    {
     "data": {
      "text/plain": [
       "tensor([[[-0.3956,  0.4439,  0.5085, -0.5840,  0.8709],\n",
       "         [ 0.2143,  1.6778,  0.0112, -0.0320, -0.3915],\n",
       "         [ 0.9667, -0.9229,  0.0081,  1.8913, -0.6835],\n",
       "         [ 0.0000,  0.0000,  0.0000,  0.0000,  0.0000]],\n",
       "\n",
       "        [[ 1.3310, -0.3161,  0.5835,  0.8231, -0.1400],\n",
       "         [ 1.6454, -0.3439, -1.3837,  0.8876,  1.4397],\n",
       "         [ 0.0000,  0.0000,  0.0000,  0.0000,  0.0000],\n",
       "         [ 0.0000,  0.0000,  0.0000,  0.0000,  0.0000]],\n",
       "\n",
       "        [[-0.9114, -1.2176,  0.2858, -0.5130,  0.0268],\n",
       "         [-0.0803,  0.6734, -1.3797, -0.8677,  0.9274],\n",
       "         [-1.1376, -0.3452,  0.3709,  0.3842,  0.8517],\n",
       "         [-2.8832,  1.1551,  0.2756,  0.0649, -0.1000]]], grad_fn=<CopySlices>)"
      ]
     },
     "execution_count": 7,
     "metadata": {},
     "output_type": "execute_result"
    }
   ],
   "source": [
    "padded_inputs   "
   ]
  },
  {
   "cell_type": "code",
   "execution_count": null,
   "metadata": {},
   "outputs": [],
   "source": [
    "# 假设每个序列的有效长度\n",
    "lengths = torch.tensor([3, 2, 4])\n",
    "\n",
    "# 将填充后的输入和有效长度传入pack_padded_sequence\n",
    "packed_input = pack_padded_sequence(padded_inputs, lengths, batch_first=True, enforce_sorted=False)\n",
    "\n",
    "# 定义一个LSTM层\n",
    "lstm = nn.LSTM(input_size=embedding_dim, hidden_size=10, batch_first=True)\n",
    "\n",
    "# 输入LSTM\n",
    "packed_output, (h_n, c_n) = lstm(packed_input)\n",
    "\n",
    "# 解包输出\n",
    "output, _ = pad_packed_sequence(packed_output, batch_first=True)\n",
    "\n",
    "print(\"Output shape:\", output.shape)\n"
   ]
  }
 ],
 "metadata": {
  "kernelspec": {
   "display_name": "trace",
   "language": "python",
   "name": "python3"
  },
  "language_info": {
   "codemirror_mode": {
    "name": "ipython",
    "version": 3
   },
   "file_extension": ".py",
   "mimetype": "text/x-python",
   "name": "python",
   "nbconvert_exporter": "python",
   "pygments_lexer": "ipython3",
   "version": "3.11.9"
  }
 },
 "nbformat": 4,
 "nbformat_minor": 2
}
